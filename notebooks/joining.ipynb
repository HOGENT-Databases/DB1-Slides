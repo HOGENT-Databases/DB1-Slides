{
    "metadata": {
        "kernelspec": {
            "name": "SQL",
            "display_name": "SQL",
            "language": "sql"
        },
        "language_info": {
            "name": "sql",
            "version": ""
        }
    },
    "nbformat_minor": 2,
    "nbformat": 4,
    "cells": [
        {
            "cell_type": "markdown",
            "source": [
                "# Databases - Join the club\n",
                "\n",
                "Demo database code:"
            ],
            "metadata": {
                "azdata_cell_guid": "07abb16e-ddef-4cd8-a08c-0080d0a2b56e"
            }
        },
        {
            "cell_type": "code",
            "source": [
                "-- Don't run this, you'll have a bad time...\r\n",
                "CREATE DATABASE Joining;\r\n",
                "GO\r\n",
                "USE JOINING;\r\n",
                "GO\r\n",
                "CREATE TABLE Facebook\r\n",
                "(\r\n",
                "    [Name] NVARCHAR(100),\r\n",
                "    Friends INT,\r\n",
                ")\r\n",
                "GO\r\n",
                "CREATE TABLE LinkedIn\r\n",
                "(\r\n",
                "    [Name] NVARCHAR(100),\r\n",
                "    Connections INT,\r\n",
                ")\r\n",
                "\r\n",
                "INSERT INTO Facebook ( [Name], Friends ) \r\n",
                "VALUES\r\n",
                " ('Matt', 300)\r\n",
                ",('Lisa', 500)\r\n",
                ",('Jeff', 600)\r\n",
                ",('Sarah', 400)\r\n",
                "\r\n",
                "INSERT INTO LinkedIn ( [Name], Connections ) \r\n",
                "VALUES\r\n",
                " ('Matt', 500)\r\n",
                ",('Lisa', 200)\r\n",
                ",('Sarah', 100)\r\n",
                ",('Louis', 300)"
            ],
            "metadata": {
                "azdata_cell_guid": "b0e69ebf-499c-47ca-8068-1bcb8ae5946f",
                "tags": [
                    "hide_input"
                ]
            },
            "outputs": [],
            "execution_count": null
        },
        {
            "cell_type": "markdown",
            "source": [
                "## `JOIN`s\n",
                "\n",
                "1.  `(INNER) JOIN`\n",
                "2.  `LEFT (OUTER) JOIN`\n",
                "3.  `RIGHT (OUTER) JOIN`\n",
                "4.  `FULL (OUTER) JOIN`\n",
                "5.  `CROSS JOIN`"
            ],
            "metadata": {
                "azdata_cell_guid": "5bb3c0f2-1d31-4688-94be-58ab2778998f"
            }
        },
        {
            "cell_type": "markdown",
            "source": [
                "# Join?\n",
                "\n",
                "- Selecteren van kolommen uit meerdere tabellen\n",
                "- `JOIN` specifiëert de tabellen die samengevoegd moeten worden, en hoe ze moeten worden samengevoegd\n",
                "- `ON` specificeert de `JOIN` voorwaarde\n",
                "- Produceert 1 resultaatset, waarin de rijen uit die tabellen gekoppeld worden"
            ],
            "metadata": {
                "azdata_cell_guid": "63f81291-1783-4d60-b755-adf40859b172"
            }
        },
        {
            "cell_type": "markdown",
            "source": [
                "# (INNER) JOIN\n",
                "\n",
                "Dit is het standaard type JOIN in SQL, in feite hoeft u niet eens `INNER` te specificeren bij het schrijven van een query. Alleen het schrijven van `JOIN` is een `INNER JOIN`.  \n",
                "\n",
                "![Inner JOIN](https://dataschool.com/assets/images/how-to-teach-people-sql/sqlJoins/sqlJoins_3.png)\n",
                "\n",
                "### **Voorbeeld**\n",
                "\n",
                "Hoeveel vrienden en connecties hebben mijn vrienden die op zowel Facebook als LinkedIn staan?"
            ],
            "metadata": {
                "azdata_cell_guid": "453d7ec2-50ea-471c-a3b5-5a00e6b3d681"
            }
        },
        {
            "cell_type": "code",
            "source": [
                "SELECT *\r\n",
                "FROM Facebook\r\n",
                "    JOIN Linkedin ON Facebook.Name = Linkedin.Name"
            ],
            "metadata": {
                "azdata_cell_guid": "42a81ae5-b7cb-4801-8840-9e56f5c9098e",
                "tags": [
                    "hide_input"
                ]
            },
            "outputs": [],
            "execution_count": null
        },
        {
            "cell_type": "markdown",
            "source": [
                "1. SQL maakt eerst een nieuwe tabel aan met de kolommen van beide tabellen die u probeert te combineren.\n",
                "\n",
                "![Creation of joined table](https://dataschool.com/assets/images/how-to-teach-people-sql/innerJoin/innerJoin_1.png)"
            ],
            "metadata": {
                "azdata_cell_guid": "55a8bd61-9054-41f1-9bef-eb4a064db5ce"
            }
        },
        {
            "cell_type": "markdown",
            "source": [
                "2. Het probeert dan waarden te vinden die overeenkomen met de kolommen die u opgeeft in het ON-statement. Het plaatsen van de tabelnaam met een periode voor de kolomnaam maakt duidelijk welke twee kolommen van de tabellen SQL op zoek zijn naar overeenkomsten tussen de kolommen.\n",
                "\n",
                "![showing that facebook.name is the same as name from the facebook table](https://dataschool.com/assets/images/how-to-teach-people-sql/innerJoin/innerJoin_2.jpeg)"
            ],
            "metadata": {
                "azdata_cell_guid": "a96e690b-110d-4b60-94f0-dafb44aa73a8"
            }
        },
        {
            "cell_type": "markdown",
            "source": [
                "3. De SQL begint dan met de eerste waarde van de opgegeven kolom in de eerste tabel (facebook.name) en kijkt vervolgens door elke waarde in de opgegeven kolom van de tweede tabel (linkedin.name) voor een match.\n",
                "\n",
                "![Gif of how inner join iterates through the tables](https://dataschool.com/assets/images/how-to-teach-people-sql/innerJoin/innerJoin_3.gif)"
            ],
            "metadata": {
                "azdata_cell_guid": "9cb969ca-daa5-4f61-86d6-a152ba042be4"
            }
        },
        {
            "cell_type": "markdown",
            "source": [
                "## Ola Pola\n",
                "\n",
                "```\n",
                " Zorg ervoor dat u weet welke gegevens u in de eindtabel wilt hebben, zodat de weggelaten gegevens niet van invloed zijn op uw analyse. \n",
                "```\n",
                "\n",
                "### **Voorbeeld**\n",
                "\n",
                "Jef zal nooit opgenomen worden in het eindresultaat.\n",
                "\n",
                "![gif of not adding unmatched rows](https://dataschool.com/assets/images/how-to-teach-people-sql/innerJoin/innerJoin_4.gif)"
            ],
            "metadata": {
                "azdata_cell_guid": "03bfd38f-ed50-4845-a32d-8cac8704c696"
            }
        },
        {
            "cell_type": "markdown",
            "source": [
                "Ola Pola\n",
                "\n",
                "```\n",
                "Een ander iets om te overwegen is dat SQL elke keer als er een match is de rijen zal vervoegen. Dus als uw gegevens in de kolommen waar u zich bij aansluit niet uniek zijn, krijgt u dubbele gegevens in de uiteindelijke tabel. \n",
                "\n",
                "```\n",
                "\n",
                "### **Voorbeeld**\n",
                "\n",
                "Sarah zal dubbel opgenomen worden in het resultaat.\n",
                "\n",
                "![non unique second table](https://dataschool.com/assets/images/how-to-teach-people-sql/innerJoin/innerJoin_5.gif)"
            ],
            "metadata": {
                "azdata_cell_guid": "75fadcd6-93fe-49c7-b391-f3eb5005e6e0"
            }
        },
        {
            "cell_type": "markdown",
            "source": [
                "# LEFT (OUTER) JOIN\n",
                "\n",
                "Dit is het tweede meest voorkomende type JOIN in SQL. Links verwijst naar de eerste tabel, of de tabel waar u zich bij aansluit. Dus in dit geval zou het de facebooktabel zijn, omdat deze eerder komt dan de gelinkte tabel in de query.\n",
                "\n",
                "![Left JOIN](https://dataschool.com/assets/images/how-to-teach-people-sql/sqlJoins/sqlJoins_4.png)  \n",
                "\n",
                "### **Voorbeeld**\n",
                "\n",
                "Hoeveel vrienden en connecties hebben mijn Facebook-vrienden? (Ongeacht of ze op LinkedIn staan)"
            ],
            "metadata": {
                "azdata_cell_guid": "582e55f8-6a18-4cdf-9770-2ee40bce6101"
            }
        },
        {
            "cell_type": "code",
            "source": [
                "SELECT *\r\n",
                "FROM facebook\r\n",
                "    LEFT JOIN linkedin ON facebook.name = linkedin.name"
            ],
            "metadata": {
                "azdata_cell_guid": "d422a170-830f-476c-bed3-b4b1b95e6418",
                "tags": [
                    "hide_input"
                ]
            },
            "outputs": [],
            "execution_count": null
        },
        {
            "cell_type": "markdown",
            "source": [
                "Deze query vindt overeenkomsten en voegt deze toe aan een nieuw aangemaakte tabel op dezelfde manier als een `INNER JOIN`.\n",
                "\n",
                "![Shows the Left join adding matches between the left and right table to the result table](https://dataschool.com/assets/images/how-to-teach-people-sql/leftJoin/leftJoin_1.gif)"
            ],
            "metadata": {
                "azdata_cell_guid": "743bac81-a06e-4c8f-8cda-efd50213b5ce"
            }
        },
        {
            "cell_type": "markdown",
            "source": [
                "Ola Pola\n",
                "\n",
                "```\n",
                "Er is echter een groot verschil in hoe SQL de LEFT-tabel (eerste tabel; in dit geval de facebooktabel) behandelt. Voor alle rijen in de eerste (of LEFT) tabel die geen match hadden, zal het nog steeds deze rij toevoegen aan de nieuwe tabel en NULLs zetten voor de kolommen van de andere tabel.\n",
                "```"
            ],
            "metadata": {
                "azdata_cell_guid": "85d12387-6a5d-4ff1-9e31-a4fa16c8af79"
            }
        },
        {
            "cell_type": "markdown",
            "source": [
                "# RIGHT (OUTER) JOIN\n",
                "\n",
                "Dit is een van de zeldzaamste soorten \\`JOIN\\` in SQL. De reden hiervoor is dat elke RIGHT JOIN herschreven kan worden als een \\`LEFT JOIN\\`, wat meer conventioneel is. Rechts verwijst naar de tweede tabel, of de tabel waar u in komt. Dus in dit geval zou het de linkedin-tabel zijn aangezien deze na facebook-tabel in de query komt.\n",
                "\n",
                "### **Voorbeeld**\n",
                "\n",
                "Hoeveel vrienden en connecties hebben mijn LinkedIn connecties? (Ongeacht of ze op facebook staan)"
            ],
            "metadata": {
                "azdata_cell_guid": "48d0a5a6-abcb-400d-99e4-ba1cea69323d"
            }
        },
        {
            "cell_type": "markdown",
            "source": [
                "# FULL (OUTER) JOIN\n",
                "\n",
                "Combineer een `LEFT JOIN` met nadien een `RIGHT JOIN` en tada! `FULL (OUTER) JOIN`. \n",
                "\n",
                "### **Voorbeeld**\n",
                "\n",
                "Hoeveel vrienden en connecties hebben mijn Facebook-vrienden of LinkedIn-vrienden?"
            ],
            "metadata": {
                "azdata_cell_guid": "a322c959-09e9-4cb0-a57a-0eefcbf5ad5d"
            }
        },
        {
            "cell_type": "code",
            "source": [
                "SELECT *\r\n",
                "FROM facebook\r\n",
                "    FULL OUTER JOIN linkedin ON facebook.name = linkedin.name"
            ],
            "metadata": {
                "azdata_cell_guid": "24657b4b-c13e-4d73-b349-30447429a6d2",
                "tags": [
                    "hide_input"
                ]
            },
            "outputs": [],
            "execution_count": null
        },
        {
            "cell_type": "markdown",
            "source": [
                "Na het invullen van de LEFT JOINvan de gegevens wordt er in wezen een RIGHT JOIN uitgevoerd. Echter, aangezien alle gevallen waarin er een match is gemaakt, controleert SQL alleen of elke waarde aanwezig is in de joined tabel. Als deze niet in de joined tabel staat, voegt SQL deze rij toe aan de nieuwe tabel en zet ze NULL voor de kolommen uit de andere tabel.\n",
                "\n",
                "![gif showing subsequent adding of values that were not copied from the table](https://dataschool.com/assets/images/how-to-teach-people-sql/fullOuter/fullOuter_2.gif)"
            ],
            "metadata": {
                "azdata_cell_guid": "6c177fa0-7aba-4edc-999b-d7dd1c0e96b2"
            }
        },
        {
            "cell_type": "markdown",
            "source": [
                "# UNION\n",
                "\n",
                "Dit is het vierde meest voorkomende type JOIN in SQL. Union koppelt de gegevens uit twee tabellen niet aan één enkele rij. Union stapelt twee datasets op elkaar in één tabel.\n",
                "\n",
                "![UNION](https://dataschool.com/assets/images/how-to-teach-people-sql/sqlJoins/sqlJoins_5.png)  \n",
                "\n",
                "### **Voorbeeld**\n",
                "\n",
                "Hoeveel vrienden hebben mijn Facebook-vrienden en hoeveel connecties hebben mijn LinkedIn-vrienden?"
            ],
            "metadata": {
                "azdata_cell_guid": "2ea3292d-c3c0-4388-b1a0-651cc2e4b034"
            }
        },
        {
            "cell_type": "code",
            "source": [
                "SELECT *\r\n",
                "FROM facebook\r\n",
                "UNION \r\n",
                "SELECT *\r\n",
                "FROM linkedin"
            ],
            "metadata": {
                "azdata_cell_guid": "39f13225-7647-4f6b-9fa3-2133f084dc43",
                "tags": [
                    "hide_input"
                ]
            },
            "outputs": [],
            "execution_count": null
        },
        {
            "cell_type": "markdown",
            "source": [
                "![gif showing how the union runs through each table to build the result](https://dataschool.com/assets/images/how-to-teach-people-sql/union/union_2.gif)"
            ],
            "metadata": {
                "azdata_cell_guid": "e8fb85b2-86dd-488e-b775-2aa573f48bd8"
            }
        },
        {
            "cell_type": "markdown",
            "source": [
                "## Ola Pola\n",
                "\n",
                "```\n",
                "Er zijn een paar overwegingen die je moet maken voordat je een UNION uitvoert.\n",
                "- Het aantal en de volgorde van de kolommen en voor beide tabellen moet hetzelfde zijn. \n",
                "- De gegevenstypes van de kolommen die worden gecombineerd moeten hetzelfde gegevenstype hebben. \n",
                "- U kunt aangeven welke kolom(s) u wilt samenvoegen, en in dit voorbeeld selecteren we alleen de kolom Naam uit beide tabellen die beide tekst zijn en dus kunnen ze worden samengevoegd.\n",
                "\n",
                "```\n",
                "\n",
                "> Merk op dat `[Name]` tussen brackets staat, aangezien `Name` een SQL Keyword is."
            ],
            "metadata": {
                "azdata_cell_guid": "85b9fe53-a01b-4a58-b093-8f2550a85dff"
            }
        },
        {
            "cell_type": "code",
            "source": [
                "SELECT [Name]\r\n",
                "FROM facebook\r\n",
                "UNION\r\n",
                "SELECT [Name]\r\n",
                "FROM linkedin"
            ],
            "metadata": {
                "azdata_cell_guid": "569ba846-dda4-419c-9fc1-4241c0dd15d4",
                "tags": [
                    "hide_input"
                ]
            },
            "outputs": [],
            "execution_count": null
        },
        {
            "cell_type": "markdown",
            "source": [
                "# CROSS JOIN\n",
                "\n",
                "Dit is het vijfde meest voorkomende type JOIN in SQL. Cross join zoekt niet naar overeenkomsten tussen de waarden in de twee datasets. In plaats daarvan wordt voor elke rij in de eerste tabel elke rij van de tweede tabel er aan vastgemaakt en één voor één aan de laatste tabel toegevoegd.\n",
                "\n",
                "![Cross JOIN](https://dataschool.com/assets/images/how-to-teach-people-sql/sqlJoins/sqlJoins_6.png)  \n",
                "\n",
                "**Voorbeeld**\n",
                "\n",
                "Hoeveel combinaties van vrienden en connecties heb ik?"
            ],
            "metadata": {
                "azdata_cell_guid": "0d34952e-a167-4100-9ce6-8cdea1362268"
            }
        },
        {
            "cell_type": "code",
            "source": [
                "SELECT *\r\n",
                "FROM facebook\r\n",
                "    CROSS JOIN linkedin"
            ],
            "metadata": {
                "azdata_cell_guid": "67537362-111f-45ef-93c9-9b2a73138099",
                "tags": [
                    "hide_input"
                ]
            },
            "outputs": [],
            "execution_count": null
        },
        {
            "cell_type": "markdown",
            "source": [
                "![gif showing how cross joins work on tables](https://dataschool.com/assets/images/how-to-teach-people-sql/crossJoin/crossJoin_1.gif)"
            ],
            "metadata": {
                "azdata_cell_guid": "26611280-380e-4ff7-8a9a-cf961f0f537e"
            }
        },
        {
            "cell_type": "markdown",
            "source": [
                "# Which JOIN is for me?\n",
                "\n",
                "-   `LEFT JOIN`: Hoeveel vrienden en connecties hebben mijn Facebook-vrienden? (Ongeacht of ze op LinkedIn staan)\n",
                "-   `RIGHT JOIN`: Hoeveel vrienden en connecties hebben mijn LinkedIn connecties? (Ongeacht of ze op facebook staan)\n",
                "-   `FULL JOIN`: Hoeveel vrienden en connecties hebben mijn Facebook-vrienden of LinkedIn-vrienden?\n",
                "-   `INNER JOIN`: Hoeveel vrienden en connecties hebben mijn vrienden die op zowel Facebook als LinkedIn staan?\n",
                "-   `UNION`: Hoeveel vrienden hebben mijn Facebook-vrienden en hoeveel connecties hebben mijn LinkedIn-vrienden?\n",
                "-   `CROSS JOIN`: Hoeveel combinaties van vrienden en connecties heb ik?"
            ],
            "metadata": {
                "azdata_cell_guid": "d83a69bf-de4a-49e8-9a10-611f3964aeba"
            }
        },
        {
            "cell_type": "code",
            "source": [
                "-- Nobody, does this, but hey... it's there if you want to an apple fanboi (different)\r\n",
                "SELECT *\r\n",
                "FROM facebook\r\n",
                "    RIGHT JOIN linkedin ON facebook.name = linkedin.name\r\n",
                "\r\n",
                "-- Talk my lingo\r\n",
                "SELECT *\r\n",
                "FROM facebook\r\n",
                "    LEFT JOIN linkedin ON facebook.name = linkedin.name"
            ],
            "metadata": {
                "azdata_cell_guid": "d7879a82-e13d-4908-97ba-01a3c5fdd6ec",
                "tags": [
                    "hide_input"
                ]
            },
            "outputs": [],
            "execution_count": null
        },
        {
            "cell_type": "markdown",
            "source": [
                "# Cheatsheet\n",
                "\n",
                "# ![SQL JOINs type cheat sheet](https://dataschool.com/assets/images/how-to-teach-people-sql/sqlJoins/sqlJoins_7.png)"
            ],
            "metadata": {
                "azdata_cell_guid": "16fe3f90-1217-41d4-9f11-0d0e95cbda62"
            }
        }
    ]
}